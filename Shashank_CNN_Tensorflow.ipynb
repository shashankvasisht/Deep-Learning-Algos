{
 "cells": [
  {
   "cell_type": "markdown",
   "metadata": {},
   "source": [
    "# Managing Data"
   ]
  },
  {
   "cell_type": "code",
   "execution_count": 2,
   "metadata": {
    "collapsed": true
   },
   "outputs": [],
   "source": [
    "import os\n",
    "import numpy as np\n",
    "import tensorflow as tf\n",
    "from PIL import Image\n",
    "from random import shuffle,seed\n",
    "from pprint import pprint"
   ]
  },
  {
   "cell_type": "code",
   "execution_count": 3,
   "metadata": {
    "collapsed": true
   },
   "outputs": [],
   "source": [
    "batch_size = 32\n",
    "image_size = (32,32)\n",
    "src_directory = '/home/shashank/Desktop/IIT_D ML/CNN/Classification_Assignment_Data/Data/'\n",
    "dest_directory = '/home/shashank/Desktop/IIT_D ML/CNN/Classif_destination'"
   ]
  },
  {
   "cell_type": "code",
   "execution_count": 4,
   "metadata": {},
   "outputs": [
    {
     "name": "stdout",
     "output_type": "stream",
     "text": [
      "['/home/shashank/Desktop/IIT_D ML/CNN/Classification_Assignment_Data/Data/cat.455.jpg',\n",
      " '/home/shashank/Desktop/IIT_D ML/CNN/Classification_Assignment_Data/Data/dog.1200.jpg',\n",
      " '/home/shashank/Desktop/IIT_D ML/CNN/Classification_Assignment_Data/Data/cat.765.jpg']\n",
      "-----------------\n",
      "['/home/shashank/Desktop/IIT_D ML/CNN/Classification_Assignment_Data/Data/dog.48.jpg',\n",
      " '/home/shashank/Desktop/IIT_D ML/CNN/Classification_Assignment_Data/Data/dog.137.jpg',\n",
      " '/home/shashank/Desktop/IIT_D ML/CNN/Classification_Assignment_Data/Data/dog.1297.jpg']\n"
     ]
    }
   ],
   "source": [
    "files=[]\n",
    "for fx in os.listdir(src_directory):\n",
    "    files.append(os.path.join(src_directory,fx))\n",
    "\n",
    "pprint(files[:3])\n",
    "seed(0)\n",
    "shuffle(files)\n",
    "print'-----------------'\n",
    "pprint(files[:3])"
   ]
  },
  {
   "cell_type": "code",
   "execution_count": 4,
   "metadata": {
    "collapsed": true
   },
   "outputs": [],
   "source": [
    "def load_image(fx):\n",
    "    \n",
    "    im = Image.open(fx)\n",
    "    im = im.resize(image_size)\n",
    "    im = np.array(im)\n",
    "    im = im/255.0\n",
    "    im = np.reshape(im,(1, image_size[0],image_size[1],3)) #doubt \n",
    "    return im"
   ]
  },
  {
   "cell_type": "code",
   "execution_count": 5,
   "metadata": {
    "collapsed": true
   },
   "outputs": [],
   "source": [
    "def load_labels(fx):\n",
    "    label = os.path.basename(fx)\n",
    "    label = label.split('.')[0]\n",
    "    if label==\"cat\":\n",
    "        return np.array([[1,0]])\n",
    "    else:\n",
    "        return np.array([[0,1]])"
   ]
  },
  {
   "cell_type": "code",
   "execution_count": 6,
   "metadata": {
    "collapsed": true
   },
   "outputs": [],
   "source": [
    "def create_batch(batch_number):\n",
    "    batch = files[batch_number*batch_size:(batch_number+1)*batch_size]\n",
    "    images = np.concatenate([load_image(f) for f in batch],axis=0)\n",
    "    labels = np.concatenate([load_labels(f) for f in batch],axis=0)\n",
    "    save_path = os.path.join(dest_directory,'Batch-{}.npz'.format(batch_number))\n",
    "    np.savez(save_path,images=images,labels=labels)"
   ]
  },
  {
   "cell_type": "code",
   "execution_count": 7,
   "metadata": {},
   "outputs": [
    {
     "name": "stdout",
     "output_type": "stream",
     "text": [
      "total no. of files 2880\n",
      "total no. of batches 90\n"
     ]
    }
   ],
   "source": [
    "no_files = len(files)\n",
    "print 'total no. of files', no_files\n",
    "no_batches = no_files/batch_size\n",
    "print 'total no. of batches', no_batches"
   ]
  },
  {
   "cell_type": "code",
   "execution_count": 8,
   "metadata": {
    "collapsed": true
   },
   "outputs": [],
   "source": [
    "for ix in range(no_batches):\n",
    "    create_batch(ix)"
   ]
  },
  {
   "cell_type": "code",
   "execution_count": 9,
   "metadata": {
    "collapsed": true
   },
   "outputs": [],
   "source": [
    "batch_path = os.path.join(dest_directory,\"Batch-{}.npz\")\n",
    "train_batch_start_idx = 0\n",
    "train_batch_end_idx = 70\n",
    "val_batch_start_idx = 70\n",
    "val_batch_end_idx = 80\n",
    "test_batch_start_idx = 80\n",
    "test_batch_end_idx=90\n"
   ]
  },
  {
   "cell_type": "code",
   "execution_count": 10,
   "metadata": {
    "collapsed": true
   },
   "outputs": [],
   "source": [
    "def Weight_variable(shape):\n",
    "    initial = tf.truncated_normal(shape,stddev=0.1)\n",
    "    return tf.Variable(initial)"
   ]
  },
  {
   "cell_type": "code",
   "execution_count": 11,
   "metadata": {
    "collapsed": true
   },
   "outputs": [],
   "source": [
    "def Bias_variable(shape):\n",
    "    initial = tf.constant(0.1, shape=shape)\n",
    "    return tf.Variable(initial)"
   ]
  },
  {
   "cell_type": "code",
   "execution_count": 12,
   "metadata": {
    "collapsed": true
   },
   "outputs": [],
   "source": [
    "def conv2d(x, W):\n",
    "    return tf.nn.conv2d(x, W, strides=[1, 1, 1, 1], padding='SAME')\n",
    "\n",
    "def max_pool_2x2(x):\n",
    "    return tf.nn.max_pool(x, ksize=[1, 2, 2, 1],\n",
    "                        strides=[1, 2, 2, 1], padding='SAME')"
   ]
  },
  {
   "cell_type": "code",
   "execution_count": 13,
   "metadata": {
    "collapsed": true
   },
   "outputs": [],
   "source": [
    "x_pl = tf.placeholder(tf.float32,shape=[None,32,32,3])\n",
    "y_pl = tf.placeholder(tf.float32,shape=[None,2])"
   ]
  },
  {
   "cell_type": "code",
   "execution_count": 14,
   "metadata": {
    "collapsed": true
   },
   "outputs": [],
   "source": [
    "W_conv1 = Weight_variable([5,5,3,32])\n",
    "B_conv1 = Bias_variable([32])"
   ]
  },
  {
   "cell_type": "code",
   "execution_count": 15,
   "metadata": {
    "collapsed": true
   },
   "outputs": [],
   "source": [
    "h_conv1 = tf.nn.relu(conv2d(x_pl,W_conv1)+B_conv1)\n",
    "h_pool1 = max_pool_2x2(h_conv1)"
   ]
  },
  {
   "cell_type": "code",
   "execution_count": 16,
   "metadata": {
    "collapsed": true
   },
   "outputs": [],
   "source": [
    "W_conv2 = Weight_variable([5, 5, 32, 64])\n",
    "B_conv2 = Bias_variable([64])"
   ]
  },
  {
   "cell_type": "code",
   "execution_count": 5,
   "metadata": {},
   "outputs": [
    {
     "ename": "NameError",
     "evalue": "name 'conv2d' is not defined",
     "output_type": "error",
     "traceback": [
      "\u001b[0;31m---------------------------------------------------------------------------\u001b[0m",
      "\u001b[0;31mNameError\u001b[0m                                 Traceback (most recent call last)",
      "\u001b[0;32m<ipython-input-5-e4fd9627c9fe>\u001b[0m in \u001b[0;36m<module>\u001b[0;34m()\u001b[0m\n\u001b[0;32m----> 1\u001b[0;31m \u001b[0mh_conv2\u001b[0m \u001b[0;34m=\u001b[0m \u001b[0mtf\u001b[0m\u001b[0;34m.\u001b[0m\u001b[0mnn\u001b[0m\u001b[0;34m.\u001b[0m\u001b[0mrelu\u001b[0m\u001b[0;34m(\u001b[0m\u001b[0mconv2d\u001b[0m\u001b[0;34m(\u001b[0m\u001b[0mh_pool1\u001b[0m\u001b[0;34m,\u001b[0m\u001b[0mW_conv2\u001b[0m\u001b[0;34m)\u001b[0m\u001b[0;34m+\u001b[0m\u001b[0mB_conv2\u001b[0m\u001b[0;34m)\u001b[0m\u001b[0;34m\u001b[0m\u001b[0m\n\u001b[0m\u001b[1;32m      2\u001b[0m \u001b[0mh_pool2\u001b[0m \u001b[0;34m=\u001b[0m \u001b[0mmax_pool_2x2\u001b[0m\u001b[0;34m(\u001b[0m\u001b[0mh_conv2\u001b[0m\u001b[0;34m)\u001b[0m\u001b[0;34m\u001b[0m\u001b[0m\n\u001b[1;32m      3\u001b[0m \u001b[0;34m\u001b[0m\u001b[0m\n",
      "\u001b[0;31mNameError\u001b[0m: name 'conv2d' is not defined"
     ]
    }
   ],
   "source": [
    "h_conv2 = tf.nn.relu(conv2d(h_pool1,W_conv2)+B_conv2)\n",
    "h_pool2 = max_pool_2x2(h_conv2)\n",
    "\n"
   ]
  },
  {
   "cell_type": "code",
   "execution_count": 18,
   "metadata": {
    "collapsed": true
   },
   "outputs": [],
   "source": [
    "W_fc1 = Weight_variable([8 * 8 * 64, 128])\n",
    "B_fc1 = Bias_variable([128])\n",
    "\n",
    "h_pool2_flat = tf.reshape(h_pool2, [-1, 8*8*64])\n",
    "h_fc1 = tf.nn.relu(tf.matmul(h_pool2_flat, W_fc1) + B_fc1)"
   ]
  },
  {
   "cell_type": "code",
   "execution_count": 19,
   "metadata": {
    "collapsed": true
   },
   "outputs": [],
   "source": [
    "keep_prob = tf.placeholder(tf.float32)\n",
    "h_fc1_drop = tf.nn.dropout(h_fc1, keep_prob)"
   ]
  },
  {
   "cell_type": "code",
   "execution_count": 20,
   "metadata": {
    "collapsed": true
   },
   "outputs": [],
   "source": [
    "W_fc2 = Weight_variable([128, 2])\n",
    "B_fc2 = Bias_variable([2])\n",
    "\n",
    "y_conv = tf.matmul(h_fc1_drop, W_fc2) + B_fc2"
   ]
  },
  {
   "cell_type": "code",
   "execution_count": 21,
   "metadata": {
    "collapsed": true
   },
   "outputs": [],
   "source": [
    "cross_entropy = tf.reduce_mean(\n",
    "    tf.nn.softmax_cross_entropy_with_logits(labels=y_pl, logits=y_conv))\n",
    "train_step = tf.train.AdamOptimizer(1e-4).minimize(cross_entropy)"
   ]
  },
  {
   "cell_type": "code",
   "execution_count": 22,
   "metadata": {
    "collapsed": true
   },
   "outputs": [],
   "source": [
    "correct_prediction = tf.equal(tf.argmax(y_conv, 1), tf.argmax(y_pl, 1))\n",
    "\n",
    "accuracy = tf.reduce_mean(tf.cast(correct_prediction, tf.float32))"
   ]
  },
  {
   "cell_type": "code",
   "execution_count": 23,
   "metadata": {},
   "outputs": [
    {
     "name": "stdout",
     "output_type": "stream",
     "text": [
      "epoch number: 0\n",
      "-------------------------------------------\n",
      "train accuracy is : 43.75\n",
      "testing accuracy 57.5\n",
      "--------------------------------------------\n",
      "epoch number: 1\n",
      "-------------------------------------------\n",
      "train accuracy is : 50.0\n",
      "testing accuracy 58.4375\n",
      "--------------------------------------------\n",
      "epoch number: 2\n",
      "-------------------------------------------\n",
      "train accuracy is : 71.875\n",
      "testing accuracy 57.5\n",
      "--------------------------------------------\n",
      "epoch number: 3\n",
      "-------------------------------------------\n",
      "train accuracy is : 68.75\n",
      "testing accuracy 56.875\n",
      "--------------------------------------------\n",
      "epoch number: 4\n",
      "-------------------------------------------\n",
      "train accuracy is : 71.875\n",
      "testing accuracy 61.5625\n",
      "--------------------------------------------\n",
      "epoch number: 5\n",
      "-------------------------------------------\n",
      "train accuracy is : 71.875\n",
      "testing accuracy 55.0\n",
      "--------------------------------------------\n",
      "epoch number: 6\n",
      "-------------------------------------------\n",
      "train accuracy is : 65.625\n",
      "testing accuracy 60.0\n",
      "--------------------------------------------\n",
      "epoch number: 7\n",
      "-------------------------------------------\n",
      "train accuracy is : 62.5\n",
      "testing accuracy 56.5625\n",
      "--------------------------------------------\n",
      "epoch number: 8\n",
      "-------------------------------------------\n",
      "train accuracy is : 75.0\n",
      "testing accuracy 58.4375\n",
      "--------------------------------------------\n",
      "epoch number: 9\n",
      "-------------------------------------------\n",
      "train accuracy is : 75.0\n",
      "testing accuracy 60.9375\n",
      "--------------------------------------------\n"
     ]
    }
   ],
   "source": [
    "max_epochs = 10\n",
    "with tf.Session() as sess:\n",
    "    sess.run(tf.global_variables_initializer())\n",
    "    for ex in range(max_epochs):\n",
    "        print 'epoch number:',ex\n",
    "        print'-------------------------------------------'\n",
    "        for train_idx in range(train_batch_start_idx, train_batch_end_idx):\n",
    "            train = np.load(batch_path.format(train_idx))\n",
    "            train_step.run(feed_dict={x_pl: train[\"images\"], y_pl : train[\"labels\"], keep_prob : 0.5})\n",
    "            \n",
    "        train_accuracy = 0.0\n",
    "        for train_idx in range(train_batch_start_idx, train_batch_end_idx):\n",
    "            train = np.load(batch_path.format(train_idx))\n",
    "            train_accuracy += accuracy.eval(feed_dict={x_pl: train[\"images\"],y_pl:train[\"labels\"],keep_prob : 1.0  })\n",
    "        train_accuracy /= (train_batch_end_idx - train_batch_start_idx)\n",
    "        print 'train accuracy is :',train_accuracy*100\n",
    "        \n",
    "        \n",
    "        test_accuracy = 0.0\n",
    "        for test_idx in range(test_batch_start_idx, test_batch_end_idx):\n",
    "            test = np.load(batch_path.format(test_idx))\n",
    "            test_accuracy += accuracy.eval(feed_dict={x_pl: test[\"images\"],y_pl:test[\"labels\"],keep_prob: 1.0  })\n",
    "        test_accuracy /= (test_batch_end_idx - test_batch_start_idx)\n",
    "        print 'testing accuracy',test_accuracy*100\n",
    "        print'--------------------------------------------'"
   ]
  },
  {
   "cell_type": "code",
   "execution_count": null,
   "metadata": {
    "collapsed": true
   },
   "outputs": [],
   "source": []
  }
 ],
 "metadata": {
  "kernelspec": {
   "display_name": "Python 2",
   "language": "python",
   "name": "python2"
  },
  "language_info": {
   "codemirror_mode": {
    "name": "ipython",
    "version": 2
   },
   "file_extension": ".py",
   "mimetype": "text/x-python",
   "name": "python",
   "nbconvert_exporter": "python",
   "pygments_lexer": "ipython2",
   "version": "2.7.12"
  }
 },
 "nbformat": 4,
 "nbformat_minor": 2
}
